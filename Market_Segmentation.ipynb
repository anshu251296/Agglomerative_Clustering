{
 "cells": [
  {
   "cell_type": "markdown",
   "id": "3f817226",
   "metadata": {},
   "source": [
    "### Feature Description\n",
    "\n",
    "<b> CUSTID :</b> Identification of Credit Card holder (Categorical)<br>\n",
    "<b>BALANCE :</b> Balance amount left in their account to make purchases<br>\n",
    "<b>BALANCEFREQUENCY :</b> How frequently the Balance is updated, score between 0 and 1 (1 = frequently updated, 0 = not frequently updated)<br>\n",
    "<b>PURCHASES :</b> Amount of purchases made from account<br>\n",
    "<b>ONEOFFPURCHASES :</b> Maximum purchase amount done in one-go<br>\n",
    "<b>INSTALLMENTSPURCHASES :</b> Amount of purchase done in installment<br>\n",
    "<b>CASHADVANCE :</b> Cash in advance given by the user<br>\n",
    "<b>PURCHASESFREQUENCY :</b> How frequently the Purchases are being made, score between 0 and 1 (1 = frequently purchased, 0 = not frequently purchased)<br>\n",
    "<b>ONEOFFPURCHASESFREQUENCY :</b> How frequently Purchases are happening in one-go (1 = frequently purchased, 0 = not frequently purchased)<br>\n",
    "PURCHASESINSTALLMENTSFREQUENCY :</b> How frequently purchases in installments are being done (1 = frequently done, 0 = not frequently done)<br>\n",
    "<b>CASHADVANCEFREQUENCY :</b> How frequently the cash in advance being paid<br>\n",
    "<b>CASHADVANCETRX :</b> Number of Transactions made with \"Cash in Advanced\"<br>\n",
    "<b>PURCHASESTRX :</b> Numbe of purchase transactions made<br>\n",
    "<b>CREDITLIMIT :</b> Limit of Credit Card for user<br>\n",
    "<b>PAYMENTS :</b> Amount of Payment done by user<br>\n",
    "<b>MINIMUM_PAYMENTS :</b> Minimum amount of payments made by user<br>\n",
    "<b>PRCFULLPAYMENT :</b> Percent of full payment paid by user<br>\n",
    "<b>TENURE :</b> Tenure of credit card service for user<br>\n"
   ]
  },
  {
   "cell_type": "code",
   "execution_count": 1,
   "id": "f8cea23b",
   "metadata": {},
   "outputs": [],
   "source": [
    "import pandas as pd\n",
    "import numpy as np\n",
    "import matplotlib.pyplot as plt\n",
    "import seaborn as sns"
   ]
  },
  {
   "cell_type": "code",
   "execution_count": null,
   "id": "102655be",
   "metadata": {},
   "outputs": [],
   "source": []
  }
 ],
 "metadata": {
  "kernelspec": {
   "display_name": "Python 3",
   "language": "python",
   "name": "python3"
  },
  "language_info": {
   "codemirror_mode": {
    "name": "ipython",
    "version": 3
   },
   "file_extension": ".py",
   "mimetype": "text/x-python",
   "name": "python",
   "nbconvert_exporter": "python",
   "pygments_lexer": "ipython3",
   "version": "3.8.8"
  }
 },
 "nbformat": 4,
 "nbformat_minor": 5
}
